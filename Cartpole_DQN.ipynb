{
 "cells": [
  {
   "cell_type": "code",
   "execution_count": null,
   "id": "7268f7c0",
   "metadata": {},
   "outputs": [],
   "source": [
    "import numpy as np\n",
    "from numpy.linalg import norm\n",
    "import matplotlib.pyplot as plt\n",
    "import sys\n",
    "import math\n",
    "\n",
    "import gym\n",
    "import pickle"
   ]
  },
  {
   "cell_type": "code",
   "execution_count": null,
   "id": "a9eb92ee",
   "metadata": {},
   "outputs": [],
   "source": []
  },
  {
   "cell_type": "code",
   "execution_count": null,
   "id": "9034e311",
   "metadata": {},
   "outputs": [],
   "source": []
  },
  {
   "cell_type": "code",
   "execution_count": 1,
   "id": "ed184105",
   "metadata": {},
   "outputs": [
    {
     "name": "stdout",
     "output_type": "stream",
     "text": [
      "Collecting jupytext\n",
      "  Downloading jupytext-1.13.8-py3-none-any.whl (297 kB)\n",
      "\u001b[2K     \u001b[90m━━━━━━━━━━━━━━━━━━━━━━━━━━━━━━━━━━━━━━━\u001b[0m \u001b[32m297.6/297.6 KB\u001b[0m \u001b[31m5.1 MB/s\u001b[0m eta \u001b[36m0:00:00\u001b[0ma \u001b[36m0:00:01\u001b[0m\n",
      "\u001b[?25hRequirement already satisfied: nbformat in /Users/tuhinatripathi/opt/miniconda3/lib/python3.9/site-packages (from jupytext) (5.1.3)\n",
      "Collecting markdown-it-py<3.0.0,>=1.0.0\n",
      "  Downloading markdown_it_py-2.0.1-py3-none-any.whl (84 kB)\n",
      "\u001b[2K     \u001b[90m━━━━━━━━━━━━━━━━━━━━━━━━━━━━━━━━━━━━━━━━\u001b[0m \u001b[32m84.1/84.1 KB\u001b[0m \u001b[31m3.6 MB/s\u001b[0m eta \u001b[36m0:00:00\u001b[0m\n",
      "\u001b[?25hCollecting toml\n",
      "  Downloading toml-0.10.2-py2.py3-none-any.whl (16 kB)\n",
      "Collecting mdit-py-plugins\n",
      "  Downloading mdit_py_plugins-0.3.0-py3-none-any.whl (43 kB)\n",
      "\u001b[2K     \u001b[90m━━━━━━━━━━━━━━━━━━━━━━━━━━━━━━━━━━━━━━━━\u001b[0m \u001b[32m43.7/43.7 KB\u001b[0m \u001b[31m1.8 MB/s\u001b[0m eta \u001b[36m0:00:00\u001b[0m\n",
      "\u001b[?25hRequirement already satisfied: pyyaml in /Users/tuhinatripathi/opt/miniconda3/lib/python3.9/site-packages (from jupytext) (5.4.1)\n",
      "Collecting mdurl~=0.1\n",
      "  Downloading mdurl-0.1.0-py3-none-any.whl (11 kB)\n",
      "Requirement already satisfied: attrs<22,>=19 in /Users/tuhinatripathi/opt/miniconda3/lib/python3.9/site-packages (from markdown-it-py<3.0.0,>=1.0.0->jupytext) (21.2.0)\n",
      "Requirement already satisfied: traitlets>=4.1 in /Users/tuhinatripathi/opt/miniconda3/lib/python3.9/site-packages (from nbformat->jupytext) (5.1.0)\n",
      "Requirement already satisfied: jupyter-core in /Users/tuhinatripathi/opt/miniconda3/lib/python3.9/site-packages (from nbformat->jupytext) (4.7.1)\n",
      "Requirement already satisfied: jsonschema!=2.5.0,>=2.4 in /Users/tuhinatripathi/opt/miniconda3/lib/python3.9/site-packages (from nbformat->jupytext) (3.2.0)\n",
      "Requirement already satisfied: ipython-genutils in /Users/tuhinatripathi/opt/miniconda3/lib/python3.9/site-packages (from nbformat->jupytext) (0.2.0)\n",
      "Requirement already satisfied: setuptools in /Users/tuhinatripathi/opt/miniconda3/lib/python3.9/site-packages (from jsonschema!=2.5.0,>=2.4->nbformat->jupytext) (52.0.0.post20210125)\n",
      "Requirement already satisfied: six>=1.11.0 in /Users/tuhinatripathi/opt/miniconda3/lib/python3.9/site-packages (from jsonschema!=2.5.0,>=2.4->nbformat->jupytext) (1.16.0)\n",
      "Requirement already satisfied: pyrsistent>=0.14.0 in /Users/tuhinatripathi/opt/miniconda3/lib/python3.9/site-packages (from jsonschema!=2.5.0,>=2.4->nbformat->jupytext) (0.17.3)\n",
      "Installing collected packages: toml, mdurl, markdown-it-py, mdit-py-plugins, jupytext\n",
      "Successfully installed jupytext-1.13.8 markdown-it-py-2.0.1 mdit-py-plugins-0.3.0 mdurl-0.1.0 toml-0.10.2\n",
      "Note: you may need to restart the kernel to use updated packages.\n",
      "[jupytext] Reading dqn.py in format py\n",
      "[jupytext] Writing dqn.ipynb\n"
     ]
    }
   ],
   "source": [
    "%pip install jupytext\n",
    "!jupytext --to notebook dqn.py"
   ]
  },
  {
   "cell_type": "code",
   "execution_count": null,
   "id": "7e64e238",
   "metadata": {},
   "outputs": [],
   "source": [
    "if __name__ == '__main__':\n",
    "    "
   ]
  }
 ],
 "metadata": {
  "kernelspec": {
   "display_name": "Python 3",
   "language": "python",
   "name": "python3"
  },
  "language_info": {
   "codemirror_mode": {
    "name": "ipython",
    "version": 3
   },
   "file_extension": ".py",
   "mimetype": "text/x-python",
   "name": "python",
   "nbconvert_exporter": "python",
   "pygments_lexer": "ipython3",
   "version": "3.9.6"
  }
 },
 "nbformat": 4,
 "nbformat_minor": 5
}
